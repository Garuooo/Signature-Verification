{
  "nbformat": 4,
  "nbformat_minor": 0,
  "metadata": {
    "colab": {
      "provenance": [],
      "mount_file_id": "1qUYTVBX0bBvmIbTC92Gd5jaquwwOn4td",
      "authorship_tag": "ABX9TyNzEmkpNj/CxgUShNC/67Ds",
      "include_colab_link": true
    },
    "kernelspec": {
      "name": "python3",
      "display_name": "Python 3"
    },
    "language_info": {
      "name": "python"
    },
    "gpuClass": "standard",
    "accelerator": "GPU"
  },
  "cells": [
    {
      "cell_type": "markdown",
      "metadata": {
        "id": "view-in-github",
        "colab_type": "text"
      },
      "source": [
        "<a href=\"https://colab.research.google.com/github/Garuooo/Signature-Verification/blob/main/one_shot_sginature_verification.ipynb\" target=\"_parent\"><img src=\"https://colab.research.google.com/assets/colab-badge.svg\" alt=\"Open In Colab\"/></a>"
      ]
    },
    {
      "cell_type": "code",
      "source": [
        "!pip install opendatasets"
      ],
      "metadata": {
        "colab": {
          "base_uri": "https://localhost:8080/"
        },
        "id": "BUf8hFqD4agp",
        "outputId": "d0dab752-5f3e-4f59-a10e-73f9dbfd749f"
      },
      "execution_count": 1,
      "outputs": [
        {
          "output_type": "stream",
          "name": "stdout",
          "text": [
            "Looking in indexes: https://pypi.org/simple, https://us-python.pkg.dev/colab-wheels/public/simple/\n",
            "Collecting opendatasets\n",
            "  Downloading opendatasets-0.1.22-py3-none-any.whl (15 kB)\n",
            "Requirement already satisfied: tqdm in /usr/local/lib/python3.8/dist-packages (from opendatasets) (4.64.1)\n",
            "Requirement already satisfied: click in /usr/local/lib/python3.8/dist-packages (from opendatasets) (7.1.2)\n",
            "Requirement already satisfied: kaggle in /usr/local/lib/python3.8/dist-packages (from opendatasets) (1.5.12)\n",
            "Requirement already satisfied: certifi in /usr/local/lib/python3.8/dist-packages (from kaggle->opendatasets) (2022.9.24)\n",
            "Requirement already satisfied: six>=1.10 in /usr/local/lib/python3.8/dist-packages (from kaggle->opendatasets) (1.15.0)\n",
            "Requirement already satisfied: python-dateutil in /usr/local/lib/python3.8/dist-packages (from kaggle->opendatasets) (2.8.2)\n",
            "Requirement already satisfied: urllib3 in /usr/local/lib/python3.8/dist-packages (from kaggle->opendatasets) (1.24.3)\n",
            "Requirement already satisfied: python-slugify in /usr/local/lib/python3.8/dist-packages (from kaggle->opendatasets) (7.0.0)\n",
            "Requirement already satisfied: requests in /usr/local/lib/python3.8/dist-packages (from kaggle->opendatasets) (2.23.0)\n",
            "Requirement already satisfied: text-unidecode>=1.3 in /usr/local/lib/python3.8/dist-packages (from python-slugify->kaggle->opendatasets) (1.3)\n",
            "Requirement already satisfied: idna<3,>=2.5 in /usr/local/lib/python3.8/dist-packages (from requests->kaggle->opendatasets) (2.10)\n",
            "Requirement already satisfied: chardet<4,>=3.0.2 in /usr/local/lib/python3.8/dist-packages (from requests->kaggle->opendatasets) (3.0.4)\n",
            "Installing collected packages: opendatasets\n",
            "Successfully installed opendatasets-0.1.22\n"
          ]
        }
      ]
    },
    {
      "cell_type": "code",
      "source": [
        "import opendatasets as od\n",
        "import os\n",
        "import shutil\n",
        "import tensorflow as tf\n",
        "import numpy as np\n",
        "import pandas as pd\n",
        "import matplotlib.pyplot as plt\n",
        "import matplotlib.image as implt\n",
        "import random"
      ],
      "metadata": {
        "id": "8783tE-M4abS"
      },
      "execution_count": 2,
      "outputs": []
    },
    {
      "cell_type": "code",
      "source": [
        "import tensorflow as tf\n",
        "from tensorflow.keras.models import Model\n",
        "from tensorflow.keras.layers import Layer,Conv2D,MaxPooling2D,Input,Flatten,Dense\n"
      ],
      "metadata": {
        "id": "SRA1sioGNXoG"
      },
      "execution_count": 3,
      "outputs": []
    },
    {
      "cell_type": "code",
      "source": [
        "od.download(\"https://www.kaggle.com/datasets/robinreni/signature-verification-dataset/\")\n"
      ],
      "metadata": {
        "colab": {
          "base_uri": "https://localhost:8080/"
        },
        "id": "oSPtJBaK7YOD",
        "outputId": "b6bdc67c-ccbb-43f8-d7fe-d82ff2a6ccf1"
      },
      "execution_count": 4,
      "outputs": [
        {
          "output_type": "stream",
          "name": "stdout",
          "text": [
            "Please provide your Kaggle credentials to download this dataset. Learn more: http://bit.ly/kaggle-creds\n",
            "Your Kaggle username: garuoo\n",
            "Your Kaggle Key: ··········\n",
            "Downloading signature-verification-dataset.zip to ./signature-verification-dataset\n"
          ]
        },
        {
          "output_type": "stream",
          "name": "stderr",
          "text": [
            "100%|██████████| 601M/601M [00:23<00:00, 26.3MB/s]\n"
          ]
        },
        {
          "output_type": "stream",
          "name": "stdout",
          "text": [
            "\n"
          ]
        }
      ]
    },
    {
      "cell_type": "code",
      "source": [
        "path = \"/content/signature-verification-dataset/sign_data/sign_data/train\""
      ],
      "metadata": {
        "id": "StEq9N7I7gm6"
      },
      "execution_count": 5,
      "outputs": []
    },
    {
      "cell_type": "code",
      "source": [
        "dir_list = os.listdir(path)\n",
        "dir_list.sort()\n",
        "dir_list[5]"
      ],
      "metadata": {
        "colab": {
          "base_uri": "https://localhost:8080/",
          "height": 36
        },
        "id": "9UmeS6bu8tFc",
        "outputId": "06ecc060-896c-48a7-cd01-e75d3d514131"
      },
      "execution_count": null,
      "outputs": [
        {
          "output_type": "execute_result",
          "data": {
            "text/plain": [
              "'003_forg'"
            ],
            "application/vnd.google.colaboratory.intrinsic+json": {
              "type": "string"
            }
          },
          "metadata": {},
          "execution_count": 6
        }
      ]
    },
    {
      "cell_type": "code",
      "source": [
        "dir_list[5]"
      ],
      "metadata": {
        "colab": {
          "base_uri": "https://localhost:8080/",
          "height": 36
        },
        "id": "2vR8D_9f9JEu",
        "outputId": "7d89c744-6473-40ec-88ba-5eba1b95a343"
      },
      "execution_count": null,
      "outputs": [
        {
          "output_type": "execute_result",
          "data": {
            "text/plain": [
              "'003_forg'"
            ],
            "application/vnd.google.colaboratory.intrinsic+json": {
              "type": "string"
            }
          },
          "metadata": {},
          "execution_count": 7
        }
      ]
    },
    {
      "cell_type": "code",
      "source": [
        "def make_embedding():\n",
        "    inp = Input(shape=(100,100,3),name=\"input_image\")\n",
        "    c1 = Conv2D(filters=64,kernel_size=(10,10),activation='relu')(inp)\n",
        "    m1 = MaxPooling2D(64,(2,2),padding=\"same\")(c1)\n",
        "    c2= Conv2D(filters=128,kernel_size=(7,7),activation=\"relu\")(m1)\n",
        "    m2 = MaxPooling2D(64,(2,2),padding=\"same\")(c2)\n",
        "    c3= Conv2D(filters=128,kernel_size=(4,4),activation=\"relu\")(m2)\n",
        "    m3 = MaxPooling2D(64,(2,2),padding=\"same\")(c3)\n",
        "    c4= Conv2D(filters=256,kernel_size=(4,4),activation=\"relu\")(m3)\n",
        "    f1= Flatten()(c4)\n",
        "    output=Dense(4096,activation='sigmoid')(f1)\n",
        "    model = Model(inputs=inp,outputs=output,name=\"embedding\")\n",
        "    return model"
      ],
      "metadata": {
        "id": "CwqnO8WIIFOF"
      },
      "execution_count": 9,
      "outputs": []
    },
    {
      "cell_type": "code",
      "source": [
        "class L1Dist(Layer):\n",
        "    def __init__(self,**kwargs):\n",
        "        super().__init__()\n",
        "    \n",
        "    def call(self,input_embedding,validation_embedding):\n",
        "        return tf.math.abs(input_embedding-validation_embedding)\n"
      ],
      "metadata": {
        "id": "9znjdlPhLLjk"
      },
      "execution_count": 10,
      "outputs": []
    },
    {
      "cell_type": "code",
      "source": [
        "def make_siamese_model():\n",
        "    # input images\n",
        "    input_image = Input(shape=(100,100,3),name='input_image')\n",
        "    validation_image = Input(shape=(100,100,3),name='valdiation_image')\n",
        "    \n",
        "    # make embedding layer\n",
        "    embedding = make_embedding()\n",
        "    \n",
        "    #combine siamese distances\n",
        "    siamese_layer = L1Dist()\n",
        "    distances = siamese_layer(embedding(input_image),embedding(validation_image))\n",
        "    \n",
        "    # Classifier Layer\n",
        "    classifier = Dense(1,activation='sigmoid')(distances)\n",
        "    \n",
        "    return Model(inputs=[input_image,validation_image],outputs=[classifier])\n",
        "    "
      ],
      "metadata": {
        "id": "_gsEV7ySNTuX"
      },
      "execution_count": 11,
      "outputs": []
    },
    {
      "cell_type": "code",
      "source": [
        "GENIUENE_PATH = os.path.join(\"data\",\"GENIUENE\")\n",
        "FORGED_PATH = os.path.join(\"data\",\"FORGED\")\n",
        "ANC_PATH = os.path.join(\"data\",\"anchor\")"
      ],
      "metadata": {
        "id": "zDTO0FNBsIh8"
      },
      "execution_count": 12,
      "outputs": []
    },
    {
      "cell_type": "code",
      "source": [
        "!mkdir data\n",
        "!mkdir data/GENIUENE\n",
        "!mkdir data/FORGED"
      ],
      "metadata": {
        "id": "yRaFwXy8FiZz"
      },
      "execution_count": 13,
      "outputs": []
    },
    {
      "cell_type": "code",
      "source": [
        "import shutil\n",
        "        "
      ],
      "metadata": {
        "id": "QCO0pLkAGmxb"
      },
      "execution_count": 14,
      "outputs": []
    },
    {
      "cell_type": "code",
      "source": [
        "path = \"/content/signature-verification-dataset/sign_data/sign_data/train\"\n",
        "for directory in os.listdir(path):\n",
        "    if directory.find(\"forg\")==-1:\n",
        "       shutil.move(os.path.join(path,directory),GENIUENE_PATH)\n",
        "    else:\n",
        "        shutil.move(os.path.join(path,directory),FORGED_PATH)\n"
      ],
      "metadata": {
        "id": "gCHtSO6mHOmW"
      },
      "execution_count": 15,
      "outputs": []
    },
    {
      "cell_type": "code",
      "source": [
        "forged_dir = os.listdir(\"/content/data/FORGED\")\n",
        "geniuene_dir = os.listdir(\"/content/data/GENIUENE\")\n",
        "len(forged_dir)"
      ],
      "metadata": {
        "colab": {
          "base_uri": "https://localhost:8080/"
        },
        "id": "XbqDc-1c9zU2",
        "outputId": "a6796003-fe82-4f66-e1a4-38f9da27022a"
      },
      "execution_count": 16,
      "outputs": [
        {
          "output_type": "execute_result",
          "data": {
            "text/plain": [
              "64"
            ]
          },
          "metadata": {},
          "execution_count": 16
        }
      ]
    },
    {
      "cell_type": "code",
      "source": [
        "negative = tf.data.Dataset.list_files(\"/content/data/FORGED\"+\"/*\"+\"/*\").take(100)\n",
        "positive =  tf.data.Dataset.list_files(\"/content/data/GENIUENE/\"+geniuene_dir[0]+\"/*\").take(100)\n",
        "positive_2 = tf.data.Dataset.list_files(\"/content/data/GENIUENE/\"+geniuene_dir[0]+\"/*\").take(100)\n",
        "\n",
        "positives = tf.data.Dataset.zip(((positive, positive_2), tf.data.Dataset.from_tensor_slices(tf.ones(len(positive)))))\n",
        "negatives = tf.data.Dataset.zip(((positive, negative), tf.data.Dataset.from_tensor_slices(tf.zeros(len(negative)))))\n",
        "\n",
        "data = positives.concatenate(negatives)"
      ],
      "metadata": {
        "id": "EgweDTkZ-RcB"
      },
      "execution_count": 17,
      "outputs": []
    },
    {
      "cell_type": "code",
      "source": [
        "for i in range(0,64):\n",
        "    negative = tf.data.Dataset.list_files(\"/content/data/FORGED\"+\"/*\"+\"/*\").take(100)\n",
        "    positive =  tf.data.Dataset.list_files(\"/content/data/GENIUENE/\"+geniuene_dir[i]+\"/*\").take(100)\n",
        "    positive_2 = tf.data.Dataset.list_files(\"/content/data/GENIUENE/\"+geniuene_dir[i]+\"/*\").take(100)\n",
        "\n",
        "    positives = tf.data.Dataset.zip(((positive, positive_2), tf.data.Dataset.from_tensor_slices(tf.ones(len(positive)))))\n",
        "    negatives = tf.data.Dataset.zip(((positive, negative), tf.data.Dataset.from_tensor_slices(tf.zeros(len(negative)))))\n",
        "\n",
        "    data = data.concatenate(negatives)\n",
        "    data = data.concatenate(positives)\n"
      ],
      "metadata": {
        "id": "pKv3CTT1IxxN"
      },
      "execution_count": 18,
      "outputs": []
    },
    {
      "cell_type": "code",
      "source": [
        "for i in range(0,64):\n",
        "    positive =  tf.data.Dataset.list_files(\"/content/data/GENIUENE/\"+geniuene_dir[i]+\"/*\").take(100)\n",
        "    for q in range(0,64):\n",
        "        if q == i:\n",
        "            continue\n",
        "        negative = tf.data.Dataset.list_files(\"/content/data/GENIUENE/\"+geniuene_dir[q]+\"/*\").take(100)\n",
        "        negatives = tf.data.Dataset.zip(((positive, negative), tf.data.Dataset.from_tensor_slices(tf.zeros(len(negative)))))\n",
        "\n",
        "        data = data.concatenate(negatives)"
      ],
      "metadata": {
        "id": "Q8s953o7rgQw"
      },
      "execution_count": 19,
      "outputs": []
    },
    {
      "cell_type": "code",
      "source": [
        "data = data.shuffle(3000)\n"
      ],
      "metadata": {
        "id": "Otr_p99L8tz6"
      },
      "execution_count": 20,
      "outputs": []
    },
    {
      "cell_type": "code",
      "source": [
        "data.as_numpy_iterator().next()\n"
      ],
      "metadata": {
        "colab": {
          "base_uri": "https://localhost:8080/"
        },
        "id": "ZVxBzkpBQf2c",
        "outputId": "85231ede-fa3b-48a5-a536-5bac1a37a8b0"
      },
      "execution_count": 21,
      "outputs": [
        {
          "output_type": "execute_result",
          "data": {
            "text/plain": [
              "((b'/content/data/GENIUENE/027/09_027.png',\n",
              "  b'/content/data/GENIUENE/027/08_027.png'),\n",
              " 1.0)"
            ]
          },
          "metadata": {},
          "execution_count": 21
        }
      ]
    },
    {
      "cell_type": "code",
      "source": [
        "def preprocess(filepath):\n",
        "    #read image from file path\n",
        "    byte_img = tf.io.read_file(filepath)\n",
        "    #load in the image\n",
        "    img = tf.io.decode_jpeg(byte_img)\n",
        "    img = tf.image.resize(img,size=(100,100))\n",
        "    img = tf.cast(img,tf.float32)/255.0\n",
        "    return img"
      ],
      "metadata": {
        "id": "h8hi3AZIKZoE"
      },
      "execution_count": 22,
      "outputs": []
    },
    {
      "cell_type": "code",
      "source": [
        "data.as_numpy_iterator().next()"
      ],
      "metadata": {
        "colab": {
          "base_uri": "https://localhost:8080/"
        },
        "id": "IO0Up-5tRtWr",
        "outputId": "6bc43afb-4535-4735-b29f-8a8dbc535f7f"
      },
      "execution_count": 23,
      "outputs": [
        {
          "output_type": "execute_result",
          "data": {
            "text/plain": [
              "((b'/content/data/GENIUENE/064/12_064.png',\n",
              "  b'/content/data/FORGED/020_forg/02_0127020.PNG'),\n",
              " 0.0)"
            ]
          },
          "metadata": {},
          "execution_count": 23
        }
      ]
    },
    {
      "cell_type": "code",
      "source": [
        "def preproces_helper(images,label):\n",
        "    return ((preprocess(images[0]),preprocess(images[1])),label)"
      ],
      "metadata": {
        "id": "V9I1juPxP-vm"
      },
      "execution_count": 24,
      "outputs": []
    },
    {
      "cell_type": "code",
      "source": [
        "# build a dataloader pipeline\n",
        "data = data.map(preproces_helper)\n",
        "data = data.prefetch(16)\n",
        "data.cache()"
      ],
      "metadata": {
        "colab": {
          "base_uri": "https://localhost:8080/"
        },
        "id": "q3pDMWD3RnqD",
        "outputId": "f86c3fe2-b24c-436a-ef2f-ef549adafbdf"
      },
      "execution_count": 25,
      "outputs": [
        {
          "output_type": "execute_result",
          "data": {
            "text/plain": [
              "<CacheDataset element_spec=((TensorSpec(shape=(100, 100, None), dtype=tf.float32, name=None), TensorSpec(shape=(100, 100, None), dtype=tf.float32, name=None)), TensorSpec(shape=(), dtype=tf.float32, name=None))>"
            ]
          },
          "metadata": {},
          "execution_count": 25
        }
      ]
    },
    {
      "cell_type": "code",
      "source": [
        "# training dataset\n",
        "train_data = data.take(round(len(data)*0.05))\n",
        "# turn training data into batches\n",
        "train_data =train_data.batch(32)"
      ],
      "metadata": {
        "id": "gpVnvkOyS8nR"
      },
      "execution_count": 26,
      "outputs": []
    },
    {
      "cell_type": "code",
      "source": [
        "test_data = data.skip(round(len(data)*0.05)).take(round(len(train_data)*0.05))\n",
        "#turn test_data into batches\n",
        "test_data = test_data.batch(32)"
      ],
      "metadata": {
        "id": "Z3fwsQo_RB1W"
      },
      "execution_count": 27,
      "outputs": []
    },
    {
      "cell_type": "code",
      "source": [
        "type(train_data),len(train_data)"
      ],
      "metadata": {
        "colab": {
          "base_uri": "https://localhost:8080/"
        },
        "id": "yutuL1820cVT",
        "outputId": "c52d702b-07ec-463d-8f5f-e8477f451099"
      },
      "execution_count": 28,
      "outputs": [
        {
          "output_type": "execute_result",
          "data": {
            "text/plain": [
              "(tensorflow.python.data.ops.dataset_ops.BatchDataset, 81)"
            ]
          },
          "metadata": {},
          "execution_count": 28
        }
      ]
    },
    {
      "cell_type": "code",
      "source": [
        "siamese_model = make_siamese_model()\n",
        "siamese_model.compile(loss=tf.keras.losses.binary_crossentropy,optimizer=tf.keras.optimizers.Adam(learning_rate=0.0001),metrics=[\"accuracy\"])\n",
        "\n",
        "siamese_history = siamese_model.fit(train_data,use_multiprocessing=True, epochs=50 , validation_data=test_data)"
      ],
      "metadata": {
        "colab": {
          "base_uri": "https://localhost:8080/"
        },
        "id": "wTCeAaiJ1BWd",
        "outputId": "42da26a5-f2a1-45cd-9e36-38e3897f9181"
      },
      "execution_count": null,
      "outputs": [
        {
          "output_type": "stream",
          "name": "stdout",
          "text": [
            "Epoch 1/50\n",
            "81/81 [==============================] - 67s 767ms/step - loss: 0.4172 - accuracy: 0.7912 - val_loss: 0.2186 - val_accuracy: 1.0000\n",
            "Epoch 2/50\n",
            "81/81 [==============================] - 54s 617ms/step - loss: 0.3693 - accuracy: 0.8064 - val_loss: 0.0569 - val_accuracy: 1.0000\n",
            "Epoch 3/50\n",
            "81/81 [==============================] - 53s 606ms/step - loss: 0.3772 - accuracy: 0.8060 - val_loss: 0.7181 - val_accuracy: 0.7500\n",
            "Epoch 4/50\n",
            "81/81 [==============================] - 53s 605ms/step - loss: 0.3365 - accuracy: 0.8138 - val_loss: 0.0830 - val_accuracy: 1.0000\n",
            "Epoch 5/50\n",
            "81/81 [==============================] - 52s 596ms/step - loss: 0.3327 - accuracy: 0.8095 - val_loss: 0.0729 - val_accuracy: 1.0000\n",
            "Epoch 6/50\n",
            "81/81 [==============================] - 53s 605ms/step - loss: 0.3263 - accuracy: 0.8044 - val_loss: 0.0545 - val_accuracy: 1.0000\n",
            "Epoch 7/50\n",
            "81/81 [==============================] - 52s 589ms/step - loss: 0.3033 - accuracy: 0.8150 - val_loss: 0.0262 - val_accuracy: 1.0000\n",
            "Epoch 8/50\n",
            "81/81 [==============================] - 52s 590ms/step - loss: 0.3017 - accuracy: 0.8165 - val_loss: 0.4893 - val_accuracy: 0.7500\n",
            "Epoch 9/50\n",
            "81/81 [==============================] - 53s 598ms/step - loss: 0.3025 - accuracy: 0.8115 - val_loss: 0.0828 - val_accuracy: 1.0000\n",
            "Epoch 10/50\n",
            "81/81 [==============================] - 53s 604ms/step - loss: 0.2884 - accuracy: 0.8115 - val_loss: 0.0878 - val_accuracy: 1.0000\n",
            "Epoch 11/50\n",
            "81/81 [==============================] - 53s 597ms/step - loss: 0.2769 - accuracy: 0.8158 - val_loss: 0.0760 - val_accuracy: 1.0000\n",
            "Epoch 12/50\n",
            "81/81 [==============================] - 53s 597ms/step - loss: 0.2758 - accuracy: 0.8165 - val_loss: 0.4581 - val_accuracy: 0.7500\n",
            "Epoch 13/50\n",
            "81/81 [==============================] - 53s 603ms/step - loss: 0.2668 - accuracy: 0.8162 - val_loss: 0.0389 - val_accuracy: 1.0000\n",
            "Epoch 14/50\n",
            "81/81 [==============================] - 52s 595ms/step - loss: 0.2583 - accuracy: 0.8283 - val_loss: 0.2235 - val_accuracy: 0.7500\n",
            "Epoch 15/50\n",
            "81/81 [==============================] - 52s 592ms/step - loss: 0.2598 - accuracy: 0.8482 - val_loss: 0.0297 - val_accuracy: 1.0000\n",
            "Epoch 16/50\n",
            "81/81 [==============================] - 52s 594ms/step - loss: 0.2486 - accuracy: 0.8544 - val_loss: 0.4089 - val_accuracy: 0.7500\n",
            "Epoch 17/50\n",
            "81/81 [==============================] - 53s 593ms/step - loss: 0.2454 - accuracy: 0.8583 - val_loss: 0.4025 - val_accuracy: 1.0000\n",
            "Epoch 18/50\n",
            "81/81 [==============================] - 53s 599ms/step - loss: 0.2362 - accuracy: 0.8712 - val_loss: 0.4290 - val_accuracy: 0.7500\n",
            "Epoch 19/50\n",
            "81/81 [==============================] - 53s 601ms/step - loss: 0.2305 - accuracy: 0.8735 - val_loss: 0.3175 - val_accuracy: 0.7500\n",
            "Epoch 20/50\n",
            "81/81 [==============================] - 53s 603ms/step - loss: 0.2384 - accuracy: 0.8642 - val_loss: 0.1767 - val_accuracy: 1.0000\n",
            "Epoch 21/50\n",
            "81/81 [==============================] - 53s 596ms/step - loss: 0.2159 - accuracy: 0.8825 - val_loss: 0.0586 - val_accuracy: 1.0000\n",
            "Epoch 22/50\n",
            "81/81 [==============================] - 52s 594ms/step - loss: 0.2058 - accuracy: 0.8895 - val_loss: 0.7803 - val_accuracy: 0.2500\n",
            "Epoch 23/50\n",
            "81/81 [==============================] - 54s 610ms/step - loss: 0.2175 - accuracy: 0.8880 - val_loss: 0.6600 - val_accuracy: 0.5000\n",
            "Epoch 24/50\n",
            "81/81 [==============================] - 53s 604ms/step - loss: 0.2042 - accuracy: 0.8970 - val_loss: 0.0227 - val_accuracy: 1.0000\n",
            "Epoch 25/50\n",
            "81/81 [==============================] - 52s 593ms/step - loss: 0.1936 - accuracy: 0.9009 - val_loss: 0.4568 - val_accuracy: 0.7500\n",
            "Epoch 26/50\n",
            "81/81 [==============================] - 53s 598ms/step - loss: 0.1852 - accuracy: 0.9126 - val_loss: 0.0023 - val_accuracy: 1.0000\n",
            "Epoch 27/50\n",
            "81/81 [==============================] - 53s 603ms/step - loss: 0.1856 - accuracy: 0.9028 - val_loss: 0.2817 - val_accuracy: 0.7500\n",
            "Epoch 28/50\n",
            "81/81 [==============================] - 53s 595ms/step - loss: 0.1788 - accuracy: 0.9067 - val_loss: 0.2814 - val_accuracy: 0.7500\n",
            "Epoch 29/50\n",
            "81/81 [==============================] - 52s 595ms/step - loss: 0.1745 - accuracy: 0.9122 - val_loss: 9.2994e-05 - val_accuracy: 1.0000\n",
            "Epoch 30/50\n",
            "81/81 [==============================] - 54s 607ms/step - loss: 0.1780 - accuracy: 0.9122 - val_loss: 0.0045 - val_accuracy: 1.0000\n",
            "Epoch 31/50\n",
            "81/81 [==============================] - 53s 608ms/step - loss: 0.1952 - accuracy: 0.9020 - val_loss: 0.0064 - val_accuracy: 1.0000\n",
            "Epoch 32/50\n",
            "81/81 [==============================] - 53s 595ms/step - loss: 0.1626 - accuracy: 0.9294 - val_loss: 2.9900e-04 - val_accuracy: 1.0000\n",
            "Epoch 33/50\n",
            "81/81 [==============================] - 54s 613ms/step - loss: 0.1579 - accuracy: 0.9227 - val_loss: 0.0186 - val_accuracy: 1.0000\n",
            "Epoch 34/50\n",
            "81/81 [==============================] - 53s 606ms/step - loss: 0.1719 - accuracy: 0.9176 - val_loss: 0.0244 - val_accuracy: 1.0000\n",
            "Epoch 35/50\n",
            "81/81 [==============================] - 52s 595ms/step - loss: 0.1651 - accuracy: 0.9192 - val_loss: 0.4421 - val_accuracy: 0.7500\n",
            "Epoch 36/50\n",
            "81/81 [==============================] - 53s 598ms/step - loss: 0.1683 - accuracy: 0.9196 - val_loss: 0.1417 - val_accuracy: 1.0000\n",
            "Epoch 37/50\n",
            "81/81 [==============================] - 53s 607ms/step - loss: 0.1605 - accuracy: 0.9231 - val_loss: 0.1524 - val_accuracy: 1.0000\n",
            "Epoch 38/50\n",
            "81/81 [==============================] - 53s 596ms/step - loss: 0.1714 - accuracy: 0.9118 - val_loss: 0.0163 - val_accuracy: 1.0000\n",
            "Epoch 39/50\n",
            "81/81 [==============================] - 53s 595ms/step - loss: 0.1795 - accuracy: 0.9130 - val_loss: 0.0389 - val_accuracy: 1.0000\n",
            "Epoch 40/50\n",
            "81/81 [==============================] - 55s 621ms/step - loss: 0.1660 - accuracy: 0.9227 - val_loss: 1.9268e-04 - val_accuracy: 1.0000\n",
            "Epoch 41/50\n",
            "81/81 [==============================] - 53s 596ms/step - loss: 0.1427 - accuracy: 0.9356 - val_loss: 0.5333 - val_accuracy: 0.5000\n",
            "Epoch 42/50\n",
            "81/81 [==============================] - 52s 595ms/step - loss: 0.1496 - accuracy: 0.9325 - val_loss: 0.0991 - val_accuracy: 1.0000\n",
            "Epoch 43/50\n",
            "81/81 [==============================] - 53s 598ms/step - loss: 0.1442 - accuracy: 0.9372 - val_loss: 0.2579 - val_accuracy: 0.7500\n",
            "Epoch 44/50\n",
            "81/81 [==============================] - 53s 603ms/step - loss: 0.1744 - accuracy: 0.9141 - val_loss: 0.0535 - val_accuracy: 1.0000\n",
            "Epoch 45/50\n",
            "81/81 [==============================] - 52s 595ms/step - loss: 0.1543 - accuracy: 0.9301 - val_loss: 0.3105 - val_accuracy: 1.0000\n",
            "Epoch 46/50\n",
            "81/81 [==============================] - 53s 596ms/step - loss: 0.1457 - accuracy: 0.9321 - val_loss: 0.0056 - val_accuracy: 1.0000\n",
            "Epoch 47/50\n",
            "81/81 [==============================] - 54s 619ms/step - loss: 0.1280 - accuracy: 0.9442 - val_loss: 0.3184 - val_accuracy: 1.0000\n",
            "Epoch 48/50\n",
            "81/81 [==============================] - 54s 615ms/step - loss: 0.1406 - accuracy: 0.9375 - val_loss: 0.1883 - val_accuracy: 0.7500\n",
            "Epoch 49/50\n",
            "81/81 [==============================] - 54s 605ms/step - loss: 0.1411 - accuracy: 0.9336 - val_loss: 0.0126 - val_accuracy: 1.0000\n",
            "Epoch 50/50\n",
            "81/81 [==============================] - 54s 616ms/step - loss: 0.1390 - accuracy: 0.9364 - val_loss: 4.3873e-04 - val_accuracy: 1.0000\n"
          ]
        }
      ]
    },
    {
      "cell_type": "code",
      "source": [
        "pd.DataFrame(siamese_history.history).plot()"
      ],
      "metadata": {
        "colab": {
          "base_uri": "https://localhost:8080/",
          "height": 283
        },
        "id": "ilKvdQb8AGss",
        "outputId": "7cfdbd5c-c890-47a8-ec33-2606fe93bb50"
      },
      "execution_count": null,
      "outputs": [
        {
          "output_type": "execute_result",
          "data": {
            "text/plain": [
              "<matplotlib.axes._subplots.AxesSubplot at 0x7f577e591890>"
            ]
          },
          "metadata": {},
          "execution_count": 97
        },
        {
          "output_type": "display_data",
          "data": {
            "text/plain": [
              "<Figure size 432x288 with 1 Axes>"
            ],
            "image/png": "[encoded data removed]"
          },
          "metadata": {
            "needs_background": "light"
          }
        }
      ]
    },
    {
      "cell_type": "code",
      "source": [
        "siamese_model.evaluate(test_data)"
      ],
      "metadata": {
        "colab": {
          "base_uri": "https://localhost:8080/"
        },
        "id": "2buwJBpUi4OQ",
        "outputId": "fb2c8282-5430-46a4-ace2-89adb8a56ba5"
      },
      "execution_count": null,
      "outputs": [
        {
          "output_type": "stream",
          "name": "stdout",
          "text": [
            "1/1 [==============================] - 17s 17s/step - loss: 0.0017 - accuracy: 1.0000\n"
          ]
        },
        {
          "output_type": "execute_result",
          "data": {
            "text/plain": [
              "[0.0016556379850953817, 1.0]"
            ]
          },
          "metadata": {},
          "execution_count": 105
        }
      ]
    },
    {
      "cell_type": "code",
      "source": [
        "# Save weights\n",
        "siamese_model.save('siamesemodel_updated.tf')"
      ],
      "metadata": {
        "colab": {
          "base_uri": "https://localhost:8080/"
        },
        "id": "e4TBx6TnW5-g",
        "outputId": "fb434381-ceb7-4e90-9420-f81a50dfa7eb"
      },
      "execution_count": null,
      "outputs": [
        {
          "output_type": "stream",
          "name": "stderr",
          "text": [
            "WARNING:absl:Found untraced functions such as _jit_compiled_convolution_op, _jit_compiled_convolution_op, _jit_compiled_convolution_op, _jit_compiled_convolution_op while saving (showing 4 of 4). These functions will not be directly callable after loading.\n"
          ]
        }
      ]
    },
    {
      "cell_type": "code",
      "source": [
        "siamese_history"
      ],
      "metadata": {
        "colab": {
          "base_uri": "https://localhost:8080/"
        },
        "id": "6j2HrPaJ1Mf_",
        "outputId": "3c5b82da-fcff-4e9a-c0ab-23d25f825054"
      },
      "execution_count": null,
      "outputs": [
        {
          "output_type": "execute_result",
          "data": {
            "text/plain": [
              "<keras.callbacks.History at 0x7fa0bd26d990>"
            ]
          },
          "metadata": {},
          "execution_count": 40
        }
      ]
    },
    {
      "cell_type": "code",
      "source": [
        "tf.keras.utils.plot_model(siamese_model)"
      ],
      "metadata": {
        "id": "nnsEDkT4is94",
        "colab": {
          "base_uri": "https://localhost:8080/",
          "height": 369
        },
        "outputId": "73a66dea-3b92-4557-f7fd-32d725f588fb"
      },
      "execution_count": null,
      "outputs": [
        {
          "output_type": "execute_result",
          "data": {
            "image/png": "[encoded data removed]",
            "text/plain": [
              "<IPython.core.display.Image object>"
            ]
          },
          "metadata": {},
          "execution_count": 41
        }
      ]
    },
    {
      "cell_type": "code",
      "source": [
        "path_1 =\"/content/data/GENIUENE/001/001_01.PNG\"\n",
        "path_2 = \"/content/data/GENIUENE/001/001_06.PNG\"\n",
        "siamese_model.predict((tf.expand_dims(preprocess(path_1),axis=0),tf.expand_dims(preprocess(path_2),axis=0)))"
      ],
      "metadata": {
        "id": "AAMFtUVShlgo",
        "colab": {
          "base_uri": "https://localhost:8080/"
        },
        "outputId": "9cf46c73-23ac-4bf6-976a-c774c1650fd9"
      },
      "execution_count": null,
      "outputs": [
        {
          "output_type": "stream",
          "name": "stdout",
          "text": [
            "1/1 [==============================] - 0s 92ms/step\n"
          ]
        },
        {
          "output_type": "execute_result",
          "data": {
            "text/plain": [
              "array([[0.7915941]], dtype=float32)"
            ]
          },
          "metadata": {},
          "execution_count": 102
        }
      ]
    }
  ]
}